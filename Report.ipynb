{
  "nbformat": 4,
  "nbformat_minor": 0,
  "metadata": {
    "colab": {
      "provenance": [],
      "authorship_tag": "ABX9TyPjZnQOGuDPt29trSzTmbat",
      "include_colab_link": true
    },
    "kernelspec": {
      "name": "python3",
      "display_name": "Python 3"
    },
    "language_info": {
      "name": "python"
    }
  },
  "cells": [
    {
      "cell_type": "markdown",
      "metadata": {
        "id": "view-in-github",
        "colab_type": "text"
      },
      "source": [
        "<a href=\"https://colab.research.google.com/github/ekaterina-kosti/Report/blob/main/Report.ipynb\" target=\"_parent\"><img src=\"https://colab.research.google.com/assets/colab-badge.svg\" alt=\"Open In Colab\"/></a>"
      ]
    },
    {
      "cell_type": "markdown",
      "source": [
        "# *Introduction*\n",
        "\n",
        "In the modern age of high-throughput sequencing that produces an enormous amount of genomic data, typically stored in a FASTA format, it is sometimes practical to have a rapid characterisation and overview before more specialised analyses can be performed. Preliminary assessments are key in identifying key features of the data sets, filtering irrelevant data and guiding the direction of further analysis.\n",
        "\n",
        "The following Python script is developed with the purpose of addressing such a need. Specifically, the program can read, parse and perform basic analysis on FASTA files containing DNA sequences.\n",
        "Further functionalities include:\n",
        "- Identifying and returning the length of the longest and shortest sequences in the given data set, which might be important for quality check of the sequencing.\n",
        "- Finding Open Reading Frames (ORFs) and analysing them with respect to the reading frame, which is a crucial first step in understanding protein functionality.\n",
        "- Finding conserved regions inside individual sequences and across the data set and analysing their relative frequencies, which provides insight into potential regulatory motifs, structural features or evolutionary distances between the sequences.\n",
        "\n",
        "This program serves as a very simple utility for preliminary data assessment, to quickly identify sequences of interest or exclude data that does not meet specified criteria, optimising subsequent in-depth analyses. A more detailed overview of each functionality is provided below, in the relevant \"*Code snippet description*\" sections. The results, current limitations and possible solutions, as well as the potential for further development and expansions, are stated in the \"*Results*\" and \"*Discussion*\" sections, respectively."
      ],
      "metadata": {
        "id": "fdODGUDLPhPW"
      }
    },
    {
      "cell_type": "markdown",
      "source": [
        "# *Results and limitations*\n",
        "\n",
        "The Python program was tested using the provided `dna2.fasta` example file to validate its core functionalities. The results demonstrate its capability to accurately parse FASTA data and perform the intended basic analyses:\n",
        "\n",
        "- Sequence Overview: the program successfully identified 18 distinct DNA sequences. The longest sequence was found to be `gi|142022655|gb|EQ086233.1|255` with a length of 4894 base pairs (bp), while the shortest sequence was `gi|142022655|gb|EQ086233.1|346` with 115 bp.\n",
        "\n",
        "- Open Reading Frame (ORF) Analysis: for a specified reading frame (e.g., frame 2), the program accurately identified ORFs. The longest ORF discovered across all sequences was [paste longest ORF sequence] with a length of 1821 bp, located within the sequence `gi|142022655|gb|EQ086233.1|527` and starting at position 636.\n",
        "\n",
        "- Repeats Identification: when analysing 7-mer repeats, the program successfully identified and quantified recurring motifs. The most frequently occurring was \"CGCGCCG\", observed 63 times across the entire dataset.\n",
        "\n",
        "Further results can be seen below the code cells.\n",
        "\n",
        "The program completed these analyses on the `dna2.fasta` file (48 KB in size) with a runtime of 0.022 seconds, indicating its efficiency for smaller datasets. However, its' computational efficiency for larger data sets is yet to be determined and might be a potential area of future improvement. The time complexity of the program is not linear due to the implementation of nested loops and iterative functions. Its' memory may also require improvement, as it relies on storing sequences in a single dictionary, which might be problematic for heavy FASTA files. Therefore, improving computational efficiency, running time and memory use could be the next primary objective of improving the program."
      ],
      "metadata": {
        "id": "8DQNE9YIRaDE"
      }
    },
    {
      "cell_type": "markdown",
      "source": [
        "### *Code snippet description:*\n",
        "\n",
        "This chunk ofcode defines a function `creating_dict()` that reads a FASTA file from a specified path. It parses the DNA sequences within this file, creating a dictionary where sequence identifiers are keys and their corresponding DNA sequences are values.\n",
        "\n",
        "After calling this function to populate the `seqs` dictionary, it is possible then to:\n",
        "- Print the total number of entries (sequences) found.\n",
        "- Extract all the DNA sequences into a list\n",
        "- Sort this list of sequences by their length and identify shortest and longest sequences and their number."
      ],
      "metadata": {
        "id": "3x2jK4YeRTid"
      }
    },
    {
      "cell_type": "code",
      "execution_count": 1,
      "metadata": {
        "id": "B8ITNZb0Pchm",
        "colab": {
          "base_uri": "https://localhost:8080/",
          "height": 341
        },
        "outputId": "27e4ffbd-6137-4916-c29e-aa8b51a4b976"
      },
      "outputs": [
        {
          "output_type": "error",
          "ename": "FileNotFoundError",
          "evalue": "[Errno 2] No such file or directory: 'dna2.fasta'",
          "traceback": [
            "\u001b[0;31m---------------------------------------------------------------------------\u001b[0m",
            "\u001b[0;31mFileNotFoundError\u001b[0m                         Traceback (most recent call last)",
            "\u001b[0;32m/tmp/ipython-input-1-1025975212.py\u001b[0m in \u001b[0;36m<cell line: 0>\u001b[0;34m()\u001b[0m\n\u001b[1;32m     26\u001b[0m     \u001b[0;32mreturn\u001b[0m \u001b[0mseqs\u001b[0m\u001b[0;34m\u001b[0m\u001b[0;34m\u001b[0m\u001b[0m\n\u001b[1;32m     27\u001b[0m \u001b[0;34m\u001b[0m\u001b[0m\n\u001b[0;32m---> 28\u001b[0;31m \u001b[0mseqs\u001b[0m \u001b[0;34m=\u001b[0m \u001b[0mcreating_dict\u001b[0m\u001b[0;34m(\u001b[0m\u001b[0;34m)\u001b[0m\u001b[0;34m\u001b[0m\u001b[0;34m\u001b[0m\u001b[0m\n\u001b[0m\u001b[1;32m     29\u001b[0m \u001b[0;31m#for name,seq in seqs.items():\u001b[0m\u001b[0;34m\u001b[0m\u001b[0;34m\u001b[0m\u001b[0m\n\u001b[1;32m     30\u001b[0m \u001b[0;31m#         print(name,seq)\u001b[0m\u001b[0;34m\u001b[0m\u001b[0;34m\u001b[0m\u001b[0m\n",
            "\u001b[0;32m/tmp/ipython-input-1-1025975212.py\u001b[0m in \u001b[0;36mcreating_dict\u001b[0;34m()\u001b[0m\n\u001b[1;32m     13\u001b[0m     \"\"\"\n\u001b[1;32m     14\u001b[0m     \u001b[0mFile_path\u001b[0m \u001b[0;34m=\u001b[0m \u001b[0;34m\"dna2.fasta\"\u001b[0m\u001b[0;34m\u001b[0m\u001b[0;34m\u001b[0m\u001b[0m\n\u001b[0;32m---> 15\u001b[0;31m     \u001b[0mf\u001b[0m\u001b[0;34m=\u001b[0m\u001b[0mopen\u001b[0m\u001b[0;34m(\u001b[0m\u001b[0mFile_path\u001b[0m\u001b[0;34m)\u001b[0m\u001b[0;34m\u001b[0m\u001b[0;34m\u001b[0m\u001b[0m\n\u001b[0m\u001b[1;32m     16\u001b[0m     \u001b[0mseqs\u001b[0m \u001b[0;34m=\u001b[0m \u001b[0;34m{\u001b[0m\u001b[0;34m}\u001b[0m\u001b[0;34m\u001b[0m\u001b[0;34m\u001b[0m\u001b[0m\n\u001b[1;32m     17\u001b[0m     \u001b[0;32mfor\u001b[0m \u001b[0mline\u001b[0m \u001b[0;32min\u001b[0m \u001b[0mf\u001b[0m\u001b[0;34m:\u001b[0m\u001b[0;34m\u001b[0m\u001b[0;34m\u001b[0m\u001b[0m\n",
            "\u001b[0;31mFileNotFoundError\u001b[0m: [Errno 2] No such file or directory: 'dna2.fasta'"
          ]
        }
      ],
      "source": [
        "from typing import Dict, List, Tuple\n",
        "\n",
        "def creating_dict() -> Dict[str, str]:\n",
        "    \"\"\"\n",
        "    Reads a FASTA file and parses DNA sequences into a dictionary.\n",
        "\n",
        "    The dictionary keys are sequence identifiers and the values\n",
        "    are the corresponding DNA sequences.\n",
        "\n",
        "    Returns:\n",
        "        Dict[str, str]: A dictionary where keys are sequence names and values are\n",
        "                        the DNA sequences.\n",
        "    \"\"\"\n",
        "    File_path = \"dna2.fasta\"\n",
        "    f=open(File_path)\n",
        "    seqs = {}\n",
        "    for line in f:\n",
        "        line = line.rstrip()\n",
        "        if line[0] == \">\":\n",
        "            words = line.split()\n",
        "            name = words[0][1:]  # Extract sequence name & removes '>'\n",
        "            seqs[name] = \"\"  # Initialize sequence entry\n",
        "        else:  # sequence, not header\n",
        "            seqs[name] = seqs[name] + line\n",
        "    f.close()\n",
        "    return seqs\n",
        "\n",
        "seqs = creating_dict()\n",
        "#for name,seq in seqs.items():\n",
        "#         print(name,seq)\n",
        "print(f\"Number of entries: {len(seqs)}\") # number of entries\n",
        "\n",
        "list_seqs = list(seqs.values()) # List of all dictionary values\n",
        "sorted_list_seqs = sorted(list_seqs, key=len) # Sort by length"
      ]
    },
    {
      "cell_type": "markdown",
      "source": [
        "### *Code snippet description:*\n",
        "\n",
        "With an existing dictionary of DNA sequences, it is now possible to perform further analysis. For example to identify and report on the longest and shortest sequences.\n"
      ],
      "metadata": {
        "id": "iIiOr4ZVQGwR"
      }
    },
    {
      "cell_type": "code",
      "source": [
        "list_seqs = list(seqs.values()) # List of all dictionary values\n",
        "sorted_list_seqs = sorted(list_seqs, key=len) # Sort by length\n",
        "\n",
        "list_of_longest_sequences = []\n",
        "max_len = len(sorted_list_seqs[-1])  # Get the length of the longest sequence\n",
        "print(f\"The maximum sequence length is: {max_len}\")\n",
        "\n",
        "for name, seq in seqs.items():\n",
        "    if len(seq) == max_len:  # Compare each sequence's length to the maximum\n",
        "        list_of_longest_sequences.append(seq)\n",
        "\n",
        "print(f\"The longest sequence is {list(seqs.keys())[list(seqs.values()).index(list_of_longest_sequences[0])]}\")\n",
        "\n",
        "if len(list_of_longest_sequences) > 1:\n",
        "    print(\"More than one longest sequence!\")\n",
        "    for seq in list_of_longest_sequences:\n",
        "        print(list(seqs.keys())[list(seqs.values()).index(seq)]) # Print all identifiers\n",
        "else:\n",
        "    print(\"Only one longest sequence!\")\n",
        "\n",
        "list_of_shortest_sequences = []\n",
        "min_len = len(sorted_list_seqs[0])  # Get the length of the shortest sequence\n",
        "print(f\"The minimum sequence length is: {min_len}\")\n",
        "for name, seq in seqs.items():\n",
        "    if len(seq) == min_len:  # Compare each sequence's length to the minimum\n",
        "        list_of_shortest_sequences.append(seq)\n",
        "\n",
        "print(f\"The shortest sequence is {list(seqs.keys())[list(seqs.values()).index(list_of_shortest_sequences[0])]}\")\n",
        "\n",
        "if len(list_of_shortest_sequences) > 1:\n",
        "    print(\"More than one shortest sequence!\")\n",
        "    for seq in list_of_shortest_sequences:\n",
        "        print(list(seqs.keys())[list(seqs.values()).index(seq)]) # print all identifiers\n",
        "else:\n",
        "    print(\"Only one shortest sequence!\")"
      ],
      "metadata": {
        "id": "G5iVKr5eQNBi"
      },
      "execution_count": null,
      "outputs": []
    },
    {
      "cell_type": "markdown",
      "source": [
        "### *Code snippet description:*\n",
        "\n",
        "Open reading frames define sections of DNA (or RNA) that can potentially encode proteins. Therefore, they always start with a start codon \"ATG\" and end with one of the stop codons \"TGA\", \"TAG\", \"TAA\". Identifying ORFS is a crucial step in genomic analysis.\n",
        "\n",
        "The function, `new_dict_create()`, is designed to identify Open Reading Frames (ORFs) for a specified reading frame (1,2,3) represented by an integer (0,1,2).\n",
        "* For each DNA sequence in the input seqs dictionary, it iterates through the sequence starting from the given frame and in steps of 3 (codon by codon).\n",
        "* When a start_codon is encountered, it begins building an ORF by extending it with subsequent codons.\n",
        "* This extension continues until one of the stop_codons is found, at which point the complete ORF is added to a list."
      ],
      "metadata": {
        "id": "G8-V3zgMQTWF"
      }
    },
    {
      "cell_type": "code",
      "source": [
        "def new_dict_create(seqs: Dict[str, str], frame: int) -> Dict[str, List[str]]:\n",
        "    \"\"\"\n",
        "    Identifies Open Reading Frames (ORFs) within DNA sequences for a given reading frame.\n",
        "    ORFs are found for each sequence in the input dictionary and stored in a new dictionary.\n",
        "\n",
        "    Args:\n",
        "        seqs (Dict[str, str]): A dictionary where keys are sequence identifiers and values are\n",
        "                                DNA sequences.\n",
        "        frame (int): The reading frame (0, 1, or 2).\n",
        "\n",
        "    Returns:\n",
        "        Dict[str, List[str]]: A dictionary where keys are sequence identifiers and values are\n",
        "                              lists of ORFs found in that sequence for the specified frame.\n",
        "    \"\"\"\n",
        "    start_codon = \"ATG\"\n",
        "    stop_codons = [\"TGA\", \"TAG\", \"TAA\"]\n",
        "    ORF_seqs = {}    # Initialize dictionary\n",
        "\n",
        "    for name, seq in seqs.items():\n",
        "        dna = seq\n",
        "        ORF_seqs[name] = []\n",
        "        ORF_line = []\n",
        "\n",
        "        for i in range (frame, len(dna),3):\n",
        "           codon = dna[i:i+3] # Define codon separation\n",
        "\n",
        "           if codon == start_codon:\n",
        "               ORF = codon\n",
        "                 # Extend the ORF until a stop codon is found\n",
        "               for j in range (i+3, len(dna), 3):\n",
        "                   next_codon = dna[j:j+3]\n",
        "                   ORF += next_codon # Extend each ORF\n",
        "\n",
        "                   if next_codon in stop_codons:\n",
        "                       ORF_line.append(ORF)\n",
        "                       #print(f\"ORF found: {ORF} in sequence {name}\")\n",
        "\n",
        "\n",
        "                       ORF_seqs[name] = ORF_line\n",
        "                       break\n",
        "    return ORF_seqs\n",
        "ORF_seqs = new_dict_create(seqs, frame=2)"
      ],
      "metadata": {
        "id": "NEk9lL8yQS8Y"
      },
      "execution_count": null,
      "outputs": []
    },
    {
      "cell_type": "markdown",
      "source": [
        "### *Code snippet description:*\n",
        "\n",
        "To perform further analysis on identified ORFs, function `find_longest_ORF()` is called. It is designed to identify the single longest ORF from a collection of ORFs found in multiple DNA sequences.\n",
        "\n",
        "It returns a tuple containing two strings:\n",
        "   * The longest ORF sequence found across all input sequences.\n",
        "   * The name of the sequence where that longest ORF was located.\n",
        "\n",
        "This helps in pinpointing the most significant potential protein-coding region in a dataset."
      ],
      "metadata": {
        "id": "o7gTVyhcQbfy"
      }
    },
    {
      "cell_type": "code",
      "source": [
        "def find_longest_ORF(ORF_seqs) -> Tuple[str, str]:\n",
        "    \"\"\"\n",
        "    Finds the longest Open Reading Frame (ORF) across all sequences and its\n",
        "    corresponding sequence identifier.\n",
        "\n",
        "    Args:\n",
        "        ORF_seqs (Dict[str, List[str]]): A dictionary where keys are sequence identifiers\n",
        "                                         and values are lists of ORFs.\n",
        "\n",
        "    Returns:\n",
        "        Tuple[str, str]: A tuple containing:\n",
        "                         - The longest ORF sequence (str).\n",
        "                         - The name of the sequence where the longest ORF was found (str).\n",
        "    \"\"\"\n",
        "    list_orfs = list(ORF_seqs.values())# list of values, ie still lists\n",
        "    longest_ORF = \"\"\n",
        "    longest_ORF_sequence_name = \"\"\n",
        "    for sequence_name, orf_list in ORF_seqs.items():  # Iterate through sequences and their ORFs\n",
        "        for orf in orf_list:  # Iterate through ORFs in the current sequence\n",
        "            if len(orf) > len(longest_ORF):  # Compare ORF lengths\n",
        "                longest_ORF = orf\n",
        "                longest_ORF_sequence_name = sequence_name\n",
        "\n",
        "    return longest_ORF, longest_ORF_sequence_name\n",
        "\n",
        "result = find_longest_ORF(ORF_seqs)\n",
        "longest_orf_sequence = result[0]\n",
        "longest_orf_sequence_name = result[1]\n",
        "\n",
        "print(\"Longest ORF:\", longest_orf_sequence,'\\n', len(longest_orf_sequence))\n",
        "print(\"Sequence name:\", longest_orf_sequence_name)"
      ],
      "metadata": {
        "id": "xEbYl-RGQgEC"
      },
      "execution_count": null,
      "outputs": []
    },
    {
      "cell_type": "markdown",
      "source": [
        "### *Code snippet description:*\n",
        "\n",
        "This section provides additional functionality to working with identified ORFs.\n",
        "\n",
        "The function `find_sequence_by_ORF()` locates the original sequence identifier that contains a specific target ORF sequence. In case the provided ORF is not found or not viable, it returns `None`\n",
        "\n",
        "The function `find_longest_ORF_by_ident()` identifies the longest ORF specifically within a single, designated sequence. If no ORFs are found for that identifier, it returns an empty string.\n",
        "\n",
        "The function `starting_position()` uses `find_sequence_by_ORF` to get the key (identifier) of the original sequence containing the `longest_orf_sequence`.\n",
        "It returns the int starting position (1-based) of the longest ORF within its original sequence, or None if for some reason it cannot be found. In principle any other sequence can be used and `longest_orf_sequence` was used as an example for demonstrativeness."
      ],
      "metadata": {
        "id": "Jf7osRrXQigX"
      }
    },
    {
      "cell_type": "code",
      "source": [
        "def find_sequence_by_ORF(ORF_seqs: Dict[str, List[str]], target_value: str) -> str | None:\n",
        "    \"\"\"\n",
        "    Finds the identifier of the sequence that contains a specific ORF.\n",
        "\n",
        "    Args:\n",
        "        ORF_seqs (Dict[str, List[str]]): A dictionary where keys are sequence identifiers\n",
        "                                         and values are lists of ORFs.\n",
        "        target_value (str): The ORF sequence to search for.\n",
        "\n",
        "    Returns:\n",
        "        Union[str, None]: The identifier of the sequence if the ORF is found,\n",
        "                          otherwise None.\n",
        "    \"\"\"\n",
        "    for key, value_list in ORF_seqs.items():\n",
        "        if target_value in value_list:\n",
        "            return key\n",
        "    return None\n",
        "print(find_sequence_by_ORF(ORF_seqs, target_value = longest_orf_sequence))\n",
        "\n",
        "def find_longest_ORF_by_ident(ORF_seqs: Dict[str, List[str]], identifier: str) -> str:\n",
        "        \"\"\"\n",
        "    Finds the longest ORF within a specific sequence identified by its identifier.\n",
        "\n",
        "    Args:\n",
        "        ORF_seqs (Dict[str, List[str]]): A dictionary where keys are sequence identifiers\n",
        "                                         and values are lists of ORFs.\n",
        "        identifier (str): The identifier of the sequence to search within.\n",
        "\n",
        "    Returns:\n",
        "        str: The longest ORF sequence found within the specified identifier.\n",
        "             Returns an empty string if no ORFs are found for the identifier.\n",
        "    \"\"\"\n",
        "        ORFs_in_seq = ORF_seqs[identifier]\n",
        "        longest_ORF_in_seq = max(ORFs_in_seq, key=len)\n",
        "        return longest_ORF_in_seq\n",
        "\n",
        "print(\"The length of the longest ORF for this identifier is\", len(find_longest_ORF_by_ident(ORF_seqs, \"gi|142022655|gb|EQ086233.1|16\")))\n",
        "\n",
        "def starting_position(longest_orf_sequence: str, seqs: Dict[str, str]) -> int | None:\n",
        "    \"\"\"\n",
        "    Finds the starting position of the longest ORF within its original sequence.\n",
        "\n",
        "    Args:\n",
        "        longest_orf_sequence (str): The longest ORF sequence.\n",
        "        seqs (Dict[str, str]): The dictionary of all original DNA sequences.\n",
        "\n",
        "    Returns:\n",
        "        Union[int, None]: The starting position of the longest ORF if found,\n",
        "                          otherwise None.\n",
        "    \"\"\"\n",
        "    key = find_sequence_by_ORF(ORF_seqs, longest_orf_sequence)\n",
        "    for name, seq in seqs.items():\n",
        "        name = key\n",
        "        seq = seqs[name]\n",
        "\n",
        "        position = seq.find(longest_orf_sequence) +1\n",
        "\n",
        "        return position\n",
        "    return None\n",
        "print(longest_orf_sequence)\n",
        "start_pos = starting_position(longest_orf_sequence, seqs)\n",
        "print(f\"Starting position of the longest ORF: {start_pos}\")"
      ],
      "metadata": {
        "id": "DJI3rzZ4QohU"
      },
      "execution_count": null,
      "outputs": []
    },
    {
      "cell_type": "markdown",
      "source": [
        "### *Code snippet description:*\n",
        "\n",
        "Repetitive DNA sequences (repeats) are segments of DNA that re-occur within a genome. Repeats have defined functions, such as: regulation of gene expression, indication of mutations. The latter is why repeats' identification and annotation is an important part of bioinformatics research. This code provides a way to discover and quantify frequent short DNA sequence motifs.\n",
        "\n",
        "The function `find_repeats()` identifies all unique substrings of a given length n that appear more than once within each individual DNA sequence\n",
        "and stores them stores a list of these unique repeating substrings for each sequence identifier in the repeat_dict.\n",
        "\n",
        "The function `count_repeats()` calculates the total occurrences of each unique repeating substring across all DNA sequences in the dataset.\n",
        "It creates a new dictionary `count_repeats_dict` where keys are the unique repeating substrings, and values are their total frequencies across all DNA sequences.\n",
        "In summary, this code provides a robust way to discover and quantify frequent short DNA sequence motifs within a collection of genetic data."
      ],
      "metadata": {
        "id": "8nwk82AKQrD1"
      }
    },
    {
      "cell_type": "code",
      "source": [
        "def find_repeats(seqs: Dict[str, str], n: int) -> Dict[str, List[str]]:\n",
        "    \"\"\"\n",
        "    Finds all repeats of length 'n' that appear more than once within each DNA sequence.\n",
        "\n",
        "    Args:\n",
        "        seqs (Dict[str, str]): A dictionary where keys are sequence identifiers and values are\n",
        "                               DNA sequences.\n",
        "        n (int): The length of the repeat to search for.\n",
        "\n",
        "    Returns:\n",
        "        Dict[str, List[str]]: A dictionary where keys are sequence identifiers and values are\n",
        "                              lists of unique repeating substrings of length 'n' found\n",
        "                              in that sequence.\n",
        "    \"\"\"\n",
        "    repeat_dict = {}\n",
        "    for name, seq in seqs.items():\n",
        "        substring_count = {}\n",
        "        repeat_set = set()\n",
        "        for i in range(0, len(seq) -n+1):\n",
        "            substring = seq[i:i+n]\n",
        "            substring_count[substring] = substring_count.get(substring, 0)+1\n",
        "        repeat_set = {sub for sub, count in substring_count.items() if count > 1}\n",
        "        repeat_dict[name] = list(repeat_set)\n",
        "    return repeat_dict\n",
        "\n",
        "repeat_dict = find_repeats(seqs, 7)\n",
        "#print(repeat_dict)\n",
        "\n",
        "\n",
        "\n",
        "def count_repeats(repeat_dict: Dict[str, List[str]], seqs: Dict[str, str]) -> Dict[str, int]:\n",
        "    \"\"\"\n",
        "    Counts the total occurrences of each unique repeat  across all DNA sequences in the file.\n",
        "\n",
        "    Args:\n",
        "        repeat_dict (Dict[str, List[str]]): A dictionary containing unique repeating substrings\n",
        "                                             per sequence, as generated by `find_repeats`.\n",
        "        seqs (Dict[str, str]): The dictionary of all original DNA sequences.\n",
        "\n",
        "    Returns:\n",
        "        Dict[str, int]: A dictionary where keys are the unique repeating substrings and\n",
        "                        values are their total counts across all sequences.\n",
        "    \"\"\"\n",
        "    count_repeats_dict = {}\n",
        "    for _, repeats in repeat_dict.items():\n",
        "        for r in repeats:\n",
        "            total_count = 0\n",
        "            for seq in seqs.values():\n",
        "                total_count += seq.count(r)\n",
        "            count_repeats_dict[r] = total_count\n",
        "    return count_repeats_dict\n",
        "repeat_dict = find_repeats(seqs, n=7)\n",
        "count_repeats_dict = count_repeats(repeat_dict, seqs)\n",
        "#\n",
        "#\n",
        "# print(count_repeats_dict)\n",
        "\n",
        "repeat_dict = find_repeats(seqs, 7)\n",
        "count_repeats_dict = count_repeats(repeat_dict, seqs)  # Pass dna_data\n",
        "#print(count_repeats_dict)\n",
        "sorted_repeat_frequency = sorted(list(count_repeats_dict.values()))\n",
        "most_frequent_repeat = sorted_repeat_frequency[-1]\n",
        "print(f\"Highest frequency count for any repeat: {most_frequent_repeat}\")"
      ],
      "metadata": {
        "id": "09Z8lV4iQzTp"
      },
      "execution_count": null,
      "outputs": []
    },
    {
      "cell_type": "markdown",
      "source": [
        "### *Code snippet description:*\n",
        "\n",
        "Additionally, it might be necessary to identify which repeat is the most frequent for a given data-set. For example, it might indicate a common structural or functional pattern, or even evolutionary information in the context of sequence similarity.\n",
        "\n",
        "The function, `find_most_frequent_repeat`, is designed to retrieve one of the DNA substrings that has the highest overall frequency from a dictionary of repeat counts."
      ],
      "metadata": {
        "id": "NkS3jCoXQ7yu"
      }
    },
    {
      "cell_type": "code",
      "source": [
        "def find_most_frequent_repeat(count_repeats_dict: Dict[str, int], most_frequent_repeat: int) -> str | None:\n",
        "    \"\"\"\n",
        "    Finds a repeat that has the highest frequency.\n",
        "\n",
        "    Args:\n",
        "        count_repeats_dict (Dict[str, int]): A dictionary where keys are repeating substrings\n",
        "                                              and values are their total counts.\n",
        "        most_frequent_repeat_count (int): The highest frequency value found in the dictionary.\n",
        "\n",
        "    Returns:\n",
        "        Union[str, None]: A repeat  with the highest frequency, or None if\n",
        "                          the dictionary is empty or no such repeat is found.\n",
        "    \"\"\"\n",
        "    for key, value in count_repeats_dict.items():\n",
        "        if value == most_frequent_repeat:\n",
        "            return key\n",
        "    return None\n",
        "#print(find_most_frequent_repeat(count_repeats_dict, most_frequent_repeat))\n",
        "most_frequent_repeat_substring = find_most_frequent_repeat(count_repeats_dict, most_frequent_repeat)\n",
        "if most_frequent_repeat_substring:\n",
        "    print(f\"One of the most frequent repeats is: {most_frequent_repeat_substring}\")\n",
        "else:\n",
        "    print(\"No such repeat found.\")"
      ],
      "metadata": {
        "id": "Weoo6SXDRDy7"
      },
      "execution_count": null,
      "outputs": []
    },
    {
      "cell_type": "markdown",
      "source": [
        "## Discussion\n",
        "\n",
        "In essence, the project was successful in developing a Python script capable of performing a preliminary analysis of DNA sequences stored in a FASTA formatted file. The program is capable of parsing input files, calculating basic descriptive statistics such as the longest and shortest sequences, identifying Open Reading Frames (ORFs) across specified reading frames, and pinpointing recurring sequence motifs or repeats.\n",
        "\n",
        "Furthermore, the functionalities presented in this report are not exhaustive, and several additions and improvements to the current version script are possible. For example, performance optimisation could include using and integrating specialised bioinformatics libraries (like Biopython), algorithmic refinement and memory management.Additional features could include GC content calculation, generation of reverse complement and transcription into RNA strands, translation into protein sequences, and creation of sequence logos for more useful insights."
      ],
      "metadata": {
        "id": "-h-jUBg3RIXg"
      }
    },
    {
      "cell_type": "markdown",
      "source": [
        "## References\n",
        "\n",
        "1. Library of Congress. (n.d.). FASTA format. Retrieved June 24, 2025, from https://www.loc.gov/preservation/digital/formats/fdd/fdd000622.shtml\n",
        "\n",
        "2. Fraser, P., & Bickmore, W. A. (2018). Nuclear architecture and the genome. Trends in Genetics, 34(5), 341–352. https://doi.org/10.1016/j.tig.2017.12.009\n",
        "\n",
        "3. Fischer, L., Böhm, L., Rall, K., Kreyenberg, H., Kunkel, H., Greve, J., & Sievers, M. (2023). Deep learning-based image analysis for predicting cell viability in ex vivo organoids. Communications Biology, 6(1), 939. https://doi.org/10.1038/s42003-023-05322-y\n",
        "\n",
        "4. Wilf, H.S. (2002). Algorithms and Complexity (2nd ed.). A K Peters/CRC Press. https://doi.org/10.1201/9780429294921\n",
        "\n",
        "5. Cock, P. J., Antao, T., Chang, J. T., Chapman, B. A., Cox, C. J., Dalke, A., … others. (2009). Biopython: freely available Python tools for computational molecular biology and bioinformatics. Bioinformatics, 25(11), 1422–1423."
      ],
      "metadata": {
        "id": "E0uCHz1yRM1d"
      }
    }
  ]
}